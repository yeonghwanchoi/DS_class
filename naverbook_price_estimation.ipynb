{
 "cells": [
  {
   "cell_type": "code",
   "execution_count": 1,
   "metadata": {},
   "outputs": [],
   "source": [
    "import requests\n",
    "import sys\n",
    "path='/Users/yeonghwanchoi/Documents/git/crawling/data'\n",
    "sys.path.append(path)\n"
   ]
  },
  {
   "cell_type": "code",
   "execution_count": 2,
   "metadata": {},
   "outputs": [
    {
     "name": "stdout",
     "output_type": "stream",
     "text": [
      "/Users/yeonghwanchoi/Documents/git/DS_class\r\n"
     ]
    }
   ],
   "source": [
    "!pwd"
   ]
  },
  {
   "cell_type": "code",
   "execution_count": 3,
   "metadata": {},
   "outputs": [],
   "source": [
    "import credits"
   ]
  },
  {
   "cell_type": "code",
   "execution_count": 4,
   "metadata": {},
   "outputs": [],
   "source": [
    "import urllib.request"
   ]
  },
  {
   "cell_type": "code",
   "execution_count": 18,
   "metadata": {},
   "outputs": [],
   "source": [
    "def gen_search_url(api_node, search_text, start_num, disp_num):\n",
    "    base = 'https://openapi.naver.com/v1/search'\n",
    "    node = '/'+ api_node + '.json'\n",
    "    param_query ='?query='+ urllib.parse.quote(search_text)\n",
    "    param_start = '&start=' + str(start_num)\n",
    "    param_disp = '&display=' + str(disp_num)\n",
    "    \n",
    "    return base + node + param_query + param_start + param_disp"
   ]
  },
  {
   "cell_type": "code",
   "execution_count": 20,
   "metadata": {},
   "outputs": [],
   "source": [
    "import json\n",
    "import datetime\n",
    "\n",
    "def get_result_onpage(url):\n",
    "    request = urllib.request.Request(url)\n",
    "    request.add_header(\"X-Naver-Client-Id\", credits.naver_id )\n",
    "    request.add_header('X-Naver-Client-Secret',credits.naver_secret)\n",
    "    \n",
    "    response = urllib.request.urlopen(request)\n",
    "    print('[%s] Url Request Success' % datetime.datetime.now())\n",
    "    return json.loads(response.read().decode('utf-8'))"
   ]
  },
  {
   "cell_type": "code",
   "execution_count": 21,
   "metadata": {},
   "outputs": [],
   "source": [
    "def delete_tag(input_str):\n",
    "    input_str = input_str.replace(\"<b>\",\"\")\n",
    "    input_str = input_str.replace(\"</b>\",\"\")\n",
    "    return input_str"
   ]
  },
  {
   "cell_type": "code",
   "execution_count": 22,
   "metadata": {},
   "outputs": [],
   "source": [
    "#total to df\n",
    "\n",
    "def get_fields(json_data):\n",
    "    title=[delete_tag(each['title']) for each in json_data['items']]\n",
    "    link = [each['link'] for each in json_data['items']]\n",
    "    price =[each['price'] for each in json_data['items']]\n",
    "    publisher = [each['publisher'] for each in json_data['items']]\n",
    "    isbn = [each['isbn'].split()[0] for each in json_data['items']]\n",
    "    \n",
    "    result_pd = pd.DataFrame({'title':title, 'price':price, 'isbn':isbn, 'link':link, 'publisher':publisher}, columns=['title','price','publisher','isbn','link'])\n",
    "    \n",
    "    return result_pd"
   ]
  },
  {
   "cell_type": "code",
   "execution_count": 38,
   "metadata": {},
   "outputs": [
    {
     "name": "stdout",
     "output_type": "stream",
     "text": [
      "[2021-03-09 18:34:46.341527] Url Request Success\n"
     ]
    }
   ],
   "source": [
    "url = gen_search_url('book','파이썬',1,100)\n",
    "json_result = get_result_onpage(url)\n",
    "pd_result = get_fields(json_result)"
   ]
  },
  {
   "cell_type": "code",
   "execution_count": 39,
   "metadata": {},
   "outputs": [
    {
     "data": {
      "text/html": [
       "<div>\n",
       "<style scoped>\n",
       "    .dataframe tbody tr th:only-of-type {\n",
       "        vertical-align: middle;\n",
       "    }\n",
       "\n",
       "    .dataframe tbody tr th {\n",
       "        vertical-align: top;\n",
       "    }\n",
       "\n",
       "    .dataframe thead th {\n",
       "        text-align: right;\n",
       "    }\n",
       "</style>\n",
       "<table border=\"1\" class=\"dataframe\">\n",
       "  <thead>\n",
       "    <tr style=\"text-align: right;\">\n",
       "      <th></th>\n",
       "      <th>title</th>\n",
       "      <th>price</th>\n",
       "      <th>publisher</th>\n",
       "      <th>isbn</th>\n",
       "      <th>link</th>\n",
       "    </tr>\n",
       "  </thead>\n",
       "  <tbody>\n",
       "    <tr>\n",
       "      <th>0</th>\n",
       "      <td>이것이 취업을 위한 코딩 테스트다 with 파이썬 (취업과 이직을 결정하는 알고리즘...</td>\n",
       "      <td>34000</td>\n",
       "      <td>한빛미디어</td>\n",
       "      <td>1162243074</td>\n",
       "      <td>http://book.naver.com/bookdb/book_detail.php?b...</td>\n",
       "    </tr>\n",
       "    <tr>\n",
       "      <th>1</th>\n",
       "      <td>혼자 공부하는 파이썬 (파이썬 최신 버전 반영)</td>\n",
       "      <td>18000</td>\n",
       "      <td>한빛미디어</td>\n",
       "      <td>1162241888</td>\n",
       "      <td>http://book.naver.com/bookdb/book_detail.php?b...</td>\n",
       "    </tr>\n",
       "    <tr>\n",
       "      <th>2</th>\n",
       "      <td>Do it! 점프 투 파이썬</td>\n",
       "      <td>18800</td>\n",
       "      <td>이지스퍼블리싱</td>\n",
       "      <td>1163030910</td>\n",
       "      <td>http://book.naver.com/bookdb/book_detail.php?b...</td>\n",
       "    </tr>\n",
       "    <tr>\n",
       "      <th>3</th>\n",
       "      <td>파이썬 증권 데이터 분석 (파이썬 입문, 웹 스크레이핑, 트레이딩 전략, 자동 매매)</td>\n",
       "      <td>32000</td>\n",
       "      <td>한빛미디어</td>\n",
       "      <td>1162243201</td>\n",
       "      <td>http://book.naver.com/bookdb/book_detail.php?b...</td>\n",
       "    </tr>\n",
       "    <tr>\n",
       "      <th>4</th>\n",
       "      <td>파이썬 알고리즘 인터뷰 (95가지 알고리즘 문제 풀이로 완성하는 코딩 테스트)</td>\n",
       "      <td>38000</td>\n",
       "      <td>책만</td>\n",
       "      <td>1189909170</td>\n",
       "      <td>http://book.naver.com/bookdb/book_detail.php?b...</td>\n",
       "    </tr>\n",
       "    <tr>\n",
       "      <th>...</th>\n",
       "      <td>...</td>\n",
       "      <td>...</td>\n",
       "      <td>...</td>\n",
       "      <td>...</td>\n",
       "      <td>...</td>\n",
       "    </tr>\n",
       "    <tr>\n",
       "      <th>95</th>\n",
       "      <td>파이썬 클린 코드 (유지보수가 쉬운 파이썬 코드를 만드는 비결)</td>\n",
       "      <td>28000</td>\n",
       "      <td>터닝포인트</td>\n",
       "      <td>1161340467</td>\n",
       "      <td>http://book.naver.com/bookdb/book_detail.php?b...</td>\n",
       "    </tr>\n",
       "    <tr>\n",
       "      <th>96</th>\n",
       "      <td>파이썬 날코딩으로 알고 짜는 딥러닝 (프레임워크 없이 단층 퍼셉트론에서 GAN까지)</td>\n",
       "      <td>45000</td>\n",
       "      <td>한빛미디어</td>\n",
       "      <td>1162242000</td>\n",
       "      <td>http://book.naver.com/bookdb/book_detail.php?b...</td>\n",
       "    </tr>\n",
       "    <tr>\n",
       "      <th>97</th>\n",
       "      <td>파이썬으로 시작하는 로봇 활용 SW 교육: 햄스터</td>\n",
       "      <td>18000</td>\n",
       "      <td>영진닷컴</td>\n",
       "      <td>8931461879</td>\n",
       "      <td>http://book.naver.com/bookdb/book_detail.php?b...</td>\n",
       "    </tr>\n",
       "    <tr>\n",
       "      <th>98</th>\n",
       "      <td>퀀트 전략 파이썬으로 세워라 (누구나 시작할 수 있는 파이썬 퀀트 투자 첫 단추)</td>\n",
       "      <td>24000</td>\n",
       "      <td>비제이퍼블릭</td>\n",
       "      <td>1190014289</td>\n",
       "      <td>http://book.naver.com/bookdb/book_detail.php?b...</td>\n",
       "    </tr>\n",
       "    <tr>\n",
       "      <th>99</th>\n",
       "      <td>창의적 프로그래밍을 위한 파이썬</td>\n",
       "      <td>23000</td>\n",
       "      <td>생능출판사</td>\n",
       "      <td>8970508651</td>\n",
       "      <td>http://book.naver.com/bookdb/book_detail.php?b...</td>\n",
       "    </tr>\n",
       "  </tbody>\n",
       "</table>\n",
       "<p>100 rows × 5 columns</p>\n",
       "</div>"
      ],
      "text/plain": [
       "                                                title  price publisher  \\\n",
       "0   이것이 취업을 위한 코딩 테스트다 with 파이썬 (취업과 이직을 결정하는 알고리즘...  34000     한빛미디어   \n",
       "1                          혼자 공부하는 파이썬 (파이썬 최신 버전 반영)  18000     한빛미디어   \n",
       "2                                     Do it! 점프 투 파이썬  18800   이지스퍼블리싱   \n",
       "3     파이썬 증권 데이터 분석 (파이썬 입문, 웹 스크레이핑, 트레이딩 전략, 자동 매매)  32000     한빛미디어   \n",
       "4         파이썬 알고리즘 인터뷰 (95가지 알고리즘 문제 풀이로 완성하는 코딩 테스트)  38000        책만   \n",
       "..                                                ...    ...       ...   \n",
       "95                파이썬 클린 코드 (유지보수가 쉬운 파이썬 코드를 만드는 비결)  28000     터닝포인트   \n",
       "96     파이썬 날코딩으로 알고 짜는 딥러닝 (프레임워크 없이 단층 퍼셉트론에서 GAN까지)  45000     한빛미디어   \n",
       "97                        파이썬으로 시작하는 로봇 활용 SW 교육: 햄스터  18000      영진닷컴   \n",
       "98      퀀트 전략 파이썬으로 세워라 (누구나 시작할 수 있는 파이썬 퀀트 투자 첫 단추)  24000    비제이퍼블릭   \n",
       "99                                  창의적 프로그래밍을 위한 파이썬  23000     생능출판사   \n",
       "\n",
       "          isbn                                               link  \n",
       "0   1162243074  http://book.naver.com/bookdb/book_detail.php?b...  \n",
       "1   1162241888  http://book.naver.com/bookdb/book_detail.php?b...  \n",
       "2   1163030910  http://book.naver.com/bookdb/book_detail.php?b...  \n",
       "3   1162243201  http://book.naver.com/bookdb/book_detail.php?b...  \n",
       "4   1189909170  http://book.naver.com/bookdb/book_detail.php?b...  \n",
       "..         ...                                                ...  \n",
       "95  1161340467  http://book.naver.com/bookdb/book_detail.php?b...  \n",
       "96  1162242000  http://book.naver.com/bookdb/book_detail.php?b...  \n",
       "97  8931461879  http://book.naver.com/bookdb/book_detail.php?b...  \n",
       "98  1190014289  http://book.naver.com/bookdb/book_detail.php?b...  \n",
       "99  8970508651  http://book.naver.com/bookdb/book_detail.php?b...  \n",
       "\n",
       "[100 rows x 5 columns]"
      ]
     },
     "execution_count": 39,
     "metadata": {},
     "output_type": "execute_result"
    }
   ],
   "source": [
    "pd_result"
   ]
  },
  {
   "cell_type": "code",
   "execution_count": 40,
   "metadata": {},
   "outputs": [
    {
     "name": "stdout",
     "output_type": "stream",
     "text": [
      "[2021-03-09 18:35:16.276400] Url Request Success\n"
     ]
    }
   ],
   "source": [
    "url = gen_search_url('book','파이썬',2,100)\n",
    "json_result = get_result_onpage(url)\n",
    "pd_result1 = get_fields(json_result)\n"
   ]
  },
  {
   "cell_type": "code",
   "execution_count": 41,
   "metadata": {},
   "outputs": [
    {
     "data": {
      "text/html": [
       "<div>\n",
       "<style scoped>\n",
       "    .dataframe tbody tr th:only-of-type {\n",
       "        vertical-align: middle;\n",
       "    }\n",
       "\n",
       "    .dataframe tbody tr th {\n",
       "        vertical-align: top;\n",
       "    }\n",
       "\n",
       "    .dataframe thead th {\n",
       "        text-align: right;\n",
       "    }\n",
       "</style>\n",
       "<table border=\"1\" class=\"dataframe\">\n",
       "  <thead>\n",
       "    <tr style=\"text-align: right;\">\n",
       "      <th></th>\n",
       "      <th>title</th>\n",
       "      <th>price</th>\n",
       "      <th>publisher</th>\n",
       "      <th>isbn</th>\n",
       "      <th>link</th>\n",
       "    </tr>\n",
       "  </thead>\n",
       "  <tbody>\n",
       "    <tr>\n",
       "      <th>0</th>\n",
       "      <td>혼자 공부하는 파이썬 (파이썬 최신 버전 반영)</td>\n",
       "      <td>18000</td>\n",
       "      <td>한빛미디어</td>\n",
       "      <td>1162241888</td>\n",
       "      <td>http://book.naver.com/bookdb/book_detail.php?b...</td>\n",
       "    </tr>\n",
       "    <tr>\n",
       "      <th>1</th>\n",
       "      <td>Do it! 점프 투 파이썬</td>\n",
       "      <td>18800</td>\n",
       "      <td>이지스퍼블리싱</td>\n",
       "      <td>1163030910</td>\n",
       "      <td>http://book.naver.com/bookdb/book_detail.php?b...</td>\n",
       "    </tr>\n",
       "    <tr>\n",
       "      <th>2</th>\n",
       "      <td>파이썬 증권 데이터 분석 (파이썬 입문, 웹 스크레이핑, 트레이딩 전략, 자동 매매)</td>\n",
       "      <td>32000</td>\n",
       "      <td>한빛미디어</td>\n",
       "      <td>1162243201</td>\n",
       "      <td>http://book.naver.com/bookdb/book_detail.php?b...</td>\n",
       "    </tr>\n",
       "    <tr>\n",
       "      <th>3</th>\n",
       "      <td>파이썬 알고리즘 인터뷰 (95가지 알고리즘 문제 풀이로 완성하는 코딩 테스트)</td>\n",
       "      <td>38000</td>\n",
       "      <td>책만</td>\n",
       "      <td>1189909170</td>\n",
       "      <td>http://book.naver.com/bookdb/book_detail.php?b...</td>\n",
       "    </tr>\n",
       "    <tr>\n",
       "      <th>4</th>\n",
       "      <td>파이썬 for Beginner (쉽고 빠르게 익히는 프로그래밍의 기본 원리)</td>\n",
       "      <td>23000</td>\n",
       "      <td>한빛아카데미</td>\n",
       "      <td>1156644666</td>\n",
       "      <td>http://book.naver.com/bookdb/book_detail.php?b...</td>\n",
       "    </tr>\n",
       "    <tr>\n",
       "      <th>...</th>\n",
       "      <td>...</td>\n",
       "      <td>...</td>\n",
       "      <td>...</td>\n",
       "      <td>...</td>\n",
       "      <td>...</td>\n",
       "    </tr>\n",
       "    <tr>\n",
       "      <th>95</th>\n",
       "      <td>파이썬 날코딩으로 알고 짜는 딥러닝 (프레임워크 없이 단층 퍼셉트론에서 GAN까지)</td>\n",
       "      <td>45000</td>\n",
       "      <td>한빛미디어</td>\n",
       "      <td>1162242000</td>\n",
       "      <td>http://book.naver.com/bookdb/book_detail.php?b...</td>\n",
       "    </tr>\n",
       "    <tr>\n",
       "      <th>96</th>\n",
       "      <td>파이썬으로 시작하는 로봇 활용 SW 교육: 햄스터</td>\n",
       "      <td>18000</td>\n",
       "      <td>영진닷컴</td>\n",
       "      <td>8931461879</td>\n",
       "      <td>http://book.naver.com/bookdb/book_detail.php?b...</td>\n",
       "    </tr>\n",
       "    <tr>\n",
       "      <th>97</th>\n",
       "      <td>퀀트 전략 파이썬으로 세워라 (누구나 시작할 수 있는 파이썬 퀀트 투자 첫 단추)</td>\n",
       "      <td>24000</td>\n",
       "      <td>비제이퍼블릭</td>\n",
       "      <td>1190014289</td>\n",
       "      <td>http://book.naver.com/bookdb/book_detail.php?b...</td>\n",
       "    </tr>\n",
       "    <tr>\n",
       "      <th>98</th>\n",
       "      <td>창의적 프로그래밍을 위한 파이썬</td>\n",
       "      <td>23000</td>\n",
       "      <td>생능출판사</td>\n",
       "      <td>8970508651</td>\n",
       "      <td>http://book.naver.com/bookdb/book_detail.php?b...</td>\n",
       "    </tr>\n",
       "    <tr>\n",
       "      <th>99</th>\n",
       "      <td>파이썬 프로그래밍 교과서</td>\n",
       "      <td>23000</td>\n",
       "      <td>길벗</td>\n",
       "      <td>116050766X</td>\n",
       "      <td>http://book.naver.com/bookdb/book_detail.php?b...</td>\n",
       "    </tr>\n",
       "  </tbody>\n",
       "</table>\n",
       "<p>100 rows × 5 columns</p>\n",
       "</div>"
      ],
      "text/plain": [
       "                                              title  price publisher  \\\n",
       "0                        혼자 공부하는 파이썬 (파이썬 최신 버전 반영)  18000     한빛미디어   \n",
       "1                                   Do it! 점프 투 파이썬  18800   이지스퍼블리싱   \n",
       "2   파이썬 증권 데이터 분석 (파이썬 입문, 웹 스크레이핑, 트레이딩 전략, 자동 매매)  32000     한빛미디어   \n",
       "3       파이썬 알고리즘 인터뷰 (95가지 알고리즘 문제 풀이로 완성하는 코딩 테스트)  38000        책만   \n",
       "4        파이썬 for Beginner (쉽고 빠르게 익히는 프로그래밍의 기본 원리)  23000    한빛아카데미   \n",
       "..                                              ...    ...       ...   \n",
       "95   파이썬 날코딩으로 알고 짜는 딥러닝 (프레임워크 없이 단층 퍼셉트론에서 GAN까지)  45000     한빛미디어   \n",
       "96                      파이썬으로 시작하는 로봇 활용 SW 교육: 햄스터  18000      영진닷컴   \n",
       "97    퀀트 전략 파이썬으로 세워라 (누구나 시작할 수 있는 파이썬 퀀트 투자 첫 단추)  24000    비제이퍼블릭   \n",
       "98                                창의적 프로그래밍을 위한 파이썬  23000     생능출판사   \n",
       "99                                    파이썬 프로그래밍 교과서  23000        길벗   \n",
       "\n",
       "          isbn                                               link  \n",
       "0   1162241888  http://book.naver.com/bookdb/book_detail.php?b...  \n",
       "1   1163030910  http://book.naver.com/bookdb/book_detail.php?b...  \n",
       "2   1162243201  http://book.naver.com/bookdb/book_detail.php?b...  \n",
       "3   1189909170  http://book.naver.com/bookdb/book_detail.php?b...  \n",
       "4   1156644666  http://book.naver.com/bookdb/book_detail.php?b...  \n",
       "..         ...                                                ...  \n",
       "95  1162242000  http://book.naver.com/bookdb/book_detail.php?b...  \n",
       "96  8931461879  http://book.naver.com/bookdb/book_detail.php?b...  \n",
       "97  1190014289  http://book.naver.com/bookdb/book_detail.php?b...  \n",
       "98  8970508651  http://book.naver.com/bookdb/book_detail.php?b...  \n",
       "99  116050766X  http://book.naver.com/bookdb/book_detail.php?b...  \n",
       "\n",
       "[100 rows x 5 columns]"
      ]
     },
     "execution_count": 41,
     "metadata": {},
     "output_type": "execute_result"
    }
   ],
   "source": [
    "pd_result1"
   ]
  },
  {
   "cell_type": "code",
   "execution_count": null,
   "metadata": {},
   "outputs": [],
   "source": [
    "3120563213513215688890.0056132164531256.0.31236516511312653216453665"
   ]
  }
 ],
 "metadata": {
  "kernelspec": {
   "display_name": "Python 3",
   "language": "python",
   "name": "python3"
  },
  "language_info": {
   "codemirror_mode": {
    "name": "ipython",
    "version": 3
   },
   "file_extension": ".py",
   "mimetype": "text/x-python",
   "name": "python",
   "nbconvert_exporter": "python",
   "pygments_lexer": "ipython3",
   "version": "3.8.5"
  },
  "toc": {
   "base_numbering": 1,
   "nav_menu": {},
   "number_sections": true,
   "sideBar": true,
   "skip_h1_title": false,
   "title_cell": "Table of Contents",
   "title_sidebar": "Contents",
   "toc_cell": false,
   "toc_position": {},
   "toc_section_display": true,
   "toc_window_display": false
  },
  "varInspector": {
   "cols": {
    "lenName": 16,
    "lenType": 16,
    "lenVar": 40
   },
   "kernels_config": {
    "python": {
     "delete_cmd_postfix": "",
     "delete_cmd_prefix": "del ",
     "library": "var_list.py",
     "varRefreshCmd": "print(var_dic_list())"
    },
    "r": {
     "delete_cmd_postfix": ") ",
     "delete_cmd_prefix": "rm(",
     "library": "var_list.r",
     "varRefreshCmd": "cat(var_dic_list()) "
    }
   },
   "types_to_exclude": [
    "module",
    "function",
    "builtin_function_or_method",
    "instance",
    "_Feature"
   ],
   "window_display": false
  }
 },
 "nbformat": 4,
 "nbformat_minor": 4
}
