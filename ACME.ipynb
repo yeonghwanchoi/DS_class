{
  "nbformat": 4,
  "nbformat_minor": 0,
  "metadata": {
    "colab": {
      "name": "ACME.ipynb",
      "private_outputs": true,
      "provenance": [],
      "collapsed_sections": [],
      "authorship_tag": "ABX9TyMWyhBwYxXNhPPPSbUUK1ak",
      "include_colab_link": true
    },
    "kernelspec": {
      "name": "python3",
      "display_name": "Python 3"
    },
    "language_info": {
      "name": "python"
    }
  },
  "cells": [
    {
      "cell_type": "markdown",
      "metadata": {
        "id": "view-in-github",
        "colab_type": "text"
      },
      "source": [
        "<a href=\"https://colab.research.google.com/github/yeonghwanchoi/DS_class/blob/master/ACME.ipynb\" target=\"_parent\"><img src=\"https://colab.research.google.com/assets/colab-badge.svg\" alt=\"Open In Colab\"/></a>"
      ]
    },
    {
      "cell_type": "code",
      "metadata": {
        "id": "IOZDbGbeLP2E"
      },
      "source": [
        "from google.colab import drive\n",
        "drive.mount('/content/drive')\n",
        "\n",
        "import warnings\n",
        "warnings.filterwarnings(action='ignore')\n",
        "\n",
        "import os\n",
        "\n",
        "\n",
        "import pandas as pd\n",
        "import numpy as np\n",
        "\n",
        "import matplotlib.pyplot as plt\n",
        "import matplotlib as mpl\n",
        "import seaborn as sns\n",
        "\n",
        "\n",
        "from sklearn.ensemble import (AdaBoostClassifier as ABC, GradientBoostingClassifier as GBC,\n",
        "                              RandomForestClassifier as RFC)\n",
        "from sklearn.tree import DecisionTreeClassifier as DTC\n",
        "from sklearn.linear_model import LogisticRegression as LR\n",
        "from lightgbm import LGBMClassifier as LGB\n",
        "import xgboost as xgb\n",
        "from xgboost import plot_importance\n",
        "\n",
        "from sklearn.metrics import accuracy_score\n",
        "from sklearn.model_selection import train_test_split\n",
        "from sklearn.model_selection import KFold, cross_val_score, KFold\n",
        "\n",
        "from sklearn.svm import SVC as SVC"
      ],
      "execution_count": null,
      "outputs": []
    },
    {
      "cell_type": "code",
      "metadata": {
        "id": "THXJC4OxM2pd"
      },
      "source": [
        "def load_data(name):\n",
        "    directory = '/content/drive/MyDrive/colab/apziva/ACME/data/'\n",
        "    path = os.path.join(directory, name)\n",
        "    data = pd.read_csv(path, encoding = 'utf-8')\n",
        "    return data\n",
        "    \n",
        "data=load_data('HappinessSurvey2020.csv')"
      ],
      "execution_count": null,
      "outputs": []
    },
    {
      "cell_type": "code",
      "metadata": {
        "id": "TTO9TuwJO5us"
      },
      "source": [
        "%matplotlib inline\n",
        "\n",
        "for i in data.columns[1:]:\n",
        "    data[['Y',i]].hist()\n",
        "plt.show()\n"
      ],
      "execution_count": null,
      "outputs": []
    },
    {
      "cell_type": "code",
      "metadata": {
        "id": "0etP7qr8cSV4"
      },
      "source": [
        "for i in data.columns[1:]:\n",
        "    data[data['Y']==1][i].hist(density=True)#blue\n",
        "    data[data['Y']==0][i].hist(density=True)\n",
        "    plt.show()"
      ],
      "execution_count": null,
      "outputs": []
    },
    {
      "cell_type": "code",
      "metadata": {
        "id": "MSMTEMgzc6Z4"
      },
      "source": [
        "sns.heatmap(data.corr(),linewidths=0.1,vmax=1.0, \n",
        "            square=True, cmap=plt.cm.RdBu, linecolor='white', annot=True)"
      ],
      "execution_count": null,
      "outputs": []
    },
    {
      "cell_type": "markdown",
      "metadata": {
        "id": "pHs_VPpBKwR3"
      },
      "source": [
        "#Features"
      ]
    },
    {
      "cell_type": "markdown",
      "metadata": {
        "id": "S1TguxGsItCC"
      },
      "source": [
        "According to the visuals above it shows X1 and X5 are important **features**"
      ]
    },
    {
      "cell_type": "code",
      "metadata": {
        "id": "11w8ukVZJ3rS"
      },
      "source": [
        "tmp_list=['X1','X5','Y']\n",
        "tmp=data[tmp_list]\n",
        "sns.heatmap(tmp.corr(),linewidths=0.1,vmax=1.0, \n",
        "            square=True, cmap=plt.cm.RdBu, linecolor='white', annot=True)"
      ],
      "execution_count": null,
      "outputs": []
    },
    {
      "cell_type": "markdown",
      "metadata": {
        "id": "Jj6qnAklK3kr"
      },
      "source": [
        "#Model_list"
      ]
    },
    {
      "cell_type": "code",
      "metadata": {
        "id": "3QQN3M2UUC4O"
      },
      "source": [
        "models = []\n",
        "models.append(('RandomForestClassifier', RFC()))\n",
        "models.append(('DecisionTreeClassifier', DTC()))\n",
        "models.append(('AdaBoostClassifier', ABC()))\n",
        "models.append(('LogisticRegression', LR()))\n",
        "models.append(('SupportVectorClassification', SVC()))\n",
        "models.append(('XGBClassifier', xgb.XGBClassifier()))"
      ],
      "execution_count": null,
      "outputs": []
    },
    {
      "cell_type": "markdown",
      "metadata": {
        "id": "QbDJu_nyLmhc"
      },
      "source": [
        "#Funcs"
      ]
    },
    {
      "cell_type": "markdown",
      "metadata": {
        "id": "aaZZudz-Lsmb"
      },
      "source": [
        "due to the small number of data, split data 10:1\n"
      ]
    },
    {
      "cell_type": "code",
      "metadata": {
        "id": "HB5UiUHRpnLy"
      },
      "source": [
        "def data_split(feature):\n",
        "\n",
        "    tmp = data[feature + ['Y']]\n",
        "    train = tmp.drop('Y',axis=1)\n",
        "    X_train, X_test, y_train, y_test = train_test_split(train, data['Y'],\n",
        "                        test_size=0.10, random_state=42)\n",
        "    \n",
        "    return X_train, X_test, y_train, y_test\n",
        "\n",
        "def result_table(models=models):\n",
        "    train_score = []\n",
        "    test_score = []\n",
        "    names = []\n",
        "    importance_score = []\n",
        "\n",
        "    for name, model in models:\n",
        "        clf = model\n",
        "        clf.fit(X_train, y_train)\n",
        "        \n",
        "        y_pred_tr = clf.predict(X_train)\n",
        "        y_pred_test = clf.predict(X_test)\n",
        "\n",
        "        names.append(name)\n",
        "        test_score.append(accuracy_score(y_test, y_pred_test))\n",
        "        train_score.append(accuracy_score(y_train, y_pred_tr))         \n",
        "        \n",
        "        try:\n",
        "            importance_score.append(np.round(clf.feature_importances_, 3))\n",
        "        except:\n",
        "            importance_score.append(0)\n",
        "\n",
        "    result = pd.DataFrame({'model name':names, \n",
        "                    'train score':train_score, \n",
        "                    'test score':test_score,\n",
        "                    'importance':importance_score}) \n",
        "\n",
        "    return result \n",
        "\n",
        "def kfold():\n",
        "\n",
        "    names = []\n",
        "    mean = []\n",
        "    std = []\n",
        "\n",
        "    for name, model in models:\n",
        "        kfold = KFold(n_splits=5, random_state=13, shuffle=True)\n",
        "        cv_results = cross_val_score(model, X_train, y_train, \n",
        "                                    cv=kfold, scoring='accuracy')\n",
        "        names.append(name)\n",
        "        mean.append(cv_results.mean())\n",
        "        std.append(cv_results.std())\n",
        "\n",
        "    result = pd.DataFrame({'name':names,'mean':mean,'std':std})\n",
        "    return result"
      ],
      "execution_count": null,
      "outputs": []
    },
    {
      "cell_type": "code",
      "metadata": {
        "id": "2FS5n4LVziBn"
      },
      "source": [
        "# from sklearn.model_selection import StratifiedShuffleSplit\n",
        "# split = StratifiedShuffleSplit(n_splits=1, test_size=0.1, random_state=42)\n",
        "# for train_index, test_index in split.split(data, data['X3']):\n",
        "#     X = data.loc[train_index]\n",
        "#     y = data.loc[test_index]\n",
        "\n",
        "\n",
        "# X_train, y_train, X_test, y_test = X[], X['Y'], y[y.columns[1:]], y['Y'] \n"
      ],
      "execution_count": null,
      "outputs": []
    },
    {
      "cell_type": "markdown",
      "metadata": {
        "id": "p5hU33v7zSBr"
      },
      "source": [
        "# model starts"
      ]
    },
    {
      "cell_type": "markdown",
      "metadata": {
        "id": "Skw3K1eEzYBv"
      },
      "source": [
        "start with all features"
      ]
    },
    {
      "cell_type": "code",
      "metadata": {
        "id": "9VePREWLHxW8"
      },
      "source": [
        "feature_list=['X1','X2','X3','X4','X5']\n",
        "\n",
        "X_train, X_test, y_train, y_test=data_split(feature_list)\n",
        "\n",
        "mean_std =kfold()\n",
        "result_table()"
      ],
      "execution_count": null,
      "outputs": []
    },
    {
      "cell_type": "code",
      "metadata": {
        "id": "g_dvMxjiH6IV"
      },
      "source": [
        "mean_std"
      ],
      "execution_count": null,
      "outputs": []
    },
    {
      "cell_type": "markdown",
      "metadata": {
        "id": "yUQVZIeXIFIP"
      },
      "source": [
        "X1 and X5"
      ]
    },
    {
      "cell_type": "code",
      "metadata": {
        "id": "fpAIaZvbNnmC"
      },
      "source": [
        "feature_list=['X1','X5']\n",
        "\n",
        "X_train, X_test, y_train, y_test=data_split(feature_list)\n",
        "\n",
        "mean_std =kfold()\n",
        "result_table()"
      ],
      "execution_count": null,
      "outputs": []
    },
    {
      "cell_type": "code",
      "metadata": {
        "id": "RR9g4JCJ_WVz"
      },
      "source": [
        "mean_std"
      ],
      "execution_count": null,
      "outputs": []
    },
    {
      "cell_type": "code",
      "metadata": {
        "id": "uVmAgzJ_zpXK"
      },
      "source": [
        "#could go with other variables \n",
        "feature_list=['X1','X5','X2']\n",
        "\n",
        "X_train, X_test, y_train, y_test=data_split(feature_list)\n",
        "\n",
        "result_table()"
      ],
      "execution_count": null,
      "outputs": []
    },
    {
      "cell_type": "code",
      "metadata": {
        "id": "ev7VKY1v_mpD"
      },
      "source": [
        "mean_std = kfold()\n",
        "mean_std"
      ],
      "execution_count": null,
      "outputs": []
    },
    {
      "cell_type": "code",
      "metadata": {
        "id": "jexSIWck2j7A"
      },
      "source": [
        "feature_list=['X1','X5','X3']\n",
        "\n",
        "X_train, X_test, y_train, y_test=data_split(feature_list)\n",
        "\n",
        "result_table()"
      ],
      "execution_count": null,
      "outputs": []
    },
    {
      "cell_type": "code",
      "metadata": {
        "id": "usl-hPlI4G52"
      },
      "source": [
        "mean_std =kfold()\n",
        "mean_std"
      ],
      "execution_count": null,
      "outputs": []
    },
    {
      "cell_type": "code",
      "metadata": {
        "id": "_AGApZPOx0lb"
      },
      "source": [
        "feature_list=['X1','X5','X4']\n",
        "\n",
        "X_train, X_test, y_train, y_test=data_split(feature_list)\n",
        "\n",
        "result_table()"
      ],
      "execution_count": null,
      "outputs": []
    },
    {
      "cell_type": "code",
      "metadata": {
        "id": "-92UDph8AHE0"
      },
      "source": [
        "mean_std =kfold()\n",
        "mean_std"
      ],
      "execution_count": null,
      "outputs": []
    },
    {
      "cell_type": "code",
      "metadata": {
        "id": "M2Cr9HhRAUxE"
      },
      "source": [
        "feature_list=['X1','X5','X6']\n",
        "\n",
        "X_train, X_test, y_train, y_test=data_split(feature_list)\n",
        "\n",
        "result_table()"
      ],
      "execution_count": null,
      "outputs": []
    },
    {
      "cell_type": "code",
      "metadata": {
        "id": "3fzLcjgvAUW-"
      },
      "source": [
        "mean_std =kfold()\n",
        "mean_std"
      ],
      "execution_count": null,
      "outputs": []
    },
    {
      "cell_type": "markdown",
      "metadata": {
        "id": "sIO3B0R3ELgM"
      },
      "source": [
        "feature 'X1' 'X5' with ensemble models exeed accuracy 0.76 \n",
        "\n",
        "X1 MUST be the most important feature as you see the histograms and feature importance in the matrix above.\n",
        "\n",
        "X2 and X4 could be eliminated"
      ]
    },
    {
      "cell_type": "code",
      "metadata": {
        "id": "cZO79Vv2gWBP"
      },
      "source": [
        "# from sklearn.model_selection import KFold\n",
        "# ntrain = data_train.shape[0]\n",
        "# ntest = data_test.shape[0]\n",
        "# SEED = 0,; NFOLDS = 5 \n",
        "# kf = KFold(ntrain, random_state=SEED)\n",
        "\n",
        "# class SklearnWrapper(object):\n",
        "#     def __init__(self, clf, seed=0, params=None):\n",
        "#         params['random_state'] = seed\n",
        "#         self.clf = clf(**params)\n",
        "\n",
        "#     def train(self, x_train, y_train):\n",
        "#         self.clf.fit(x_train, np.log(y_train))\n",
        "\n",
        "#     def predict(self, x):\n",
        "#         return np.exp(self.clf.predict(x))\n",
        "    "
      ],
      "execution_count": null,
      "outputs": []
    },
    {
      "cell_type": "code",
      "metadata": {
        "id": "N8vbEeAFkJn-"
      },
      "source": [
        "# rf_params = {\n",
        "#     'n_jobs': -1,\n",
        "#     'n_estimators': 500,\n",
        "#      'warm_start': True, \n",
        "#      #'max_features': 0.2,\n",
        "#     'max_depth': 6,\n",
        "#     'min_samples_leaf': 2,\n",
        "#     'max_features' : 'sqrt',\n",
        "#     'verbose': 0\n",
        "# },\n",
        "# ada_params = {\n",
        "#     'n_estimators': 500,\n",
        "#     'learning_rate' : 0.75\n",
        "# },\n",
        "# gb_params = {\n",
        "#     'n_estimators': 500,\n",
        "#      #'max_features': 0.2,\n",
        "#     'max_depth': 5,\n",
        "#     'min_samples_leaf': 2,\n",
        "#     'verbose': 0\n",
        "# },\n",
        "# svc_params = {\n",
        "#     'kernel' : 'linear',\n",
        "#     'C' : 0.025\n",
        "# }\n"
      ],
      "execution_count": null,
      "outputs": []
    }
  ]
}